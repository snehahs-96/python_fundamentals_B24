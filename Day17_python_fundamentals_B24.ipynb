{
 "cells": [
  {
   "cell_type": "code",
   "execution_count": null,
   "metadata": {},
   "outputs": [],
   "source": [
    "Introduction to python classes"
   ]
  },
  {
   "cell_type": "code",
   "execution_count": null,
   "metadata": {},
   "outputs": [],
   "source": [
    "Classes\n",
    "\n",
    "methods\n",
    "\n",
    "Attributes\n",
    "\n",
    "self\n",
    "\n",
    "objects"
   ]
  },
  {
   "cell_type": "code",
   "execution_count": null,
   "metadata": {},
   "outputs": [],
   "source": [
    "classes: Class is a high level blue print of a program\n",
    "-->How to define a class--->class-->title case\n",
    "\n",
    "Methods:\n",
    "    A function written inside the class is called as methods.\n",
    "    \n",
    "Attributes:\n",
    "    A variable written inside the class is called as Attributes.\n",
    "    \n",
    "Self:\n",
    "    A self is a temporary place holder for an object.\n",
    "    \n",
    "object:\n",
    "    An object is a entry point to access the class methods."
   ]
  },
  {
   "cell_type": "code",
   "execution_count": null,
   "metadata": {},
   "outputs": [],
   "source": [
    "#req: To create a class called as---Greet_user\n",
    "     To create the below methods under it.\n",
    "    \n",
    "    1.create_name--->It needs to accept the input from the user.\n",
    "    2.display_name--->It needs to display the name given.\n",
    "    3.greet_name---->It needs to greet the name of the user.\n",
    "    "
   ]
  },
  {
   "cell_type": "code",
   "execution_count": 4,
   "metadata": {},
   "outputs": [],
   "source": [
    "class greet_user:\n",
    "    \"\"\" craeting a greet_user class\"\"\"\n",
    "    def create_name(self,name):\n",
    "        self.name=name\n",
    "    def display_name(self):\n",
    "        print(f\"{self.name}\")\n",
    "    def greet_name(self):\n",
    "        print(f\"Hello,{self.name} \")"
   ]
  },
  {
   "cell_type": "code",
   "execution_count": 5,
   "metadata": {},
   "outputs": [],
   "source": [
    "test = greet_user()"
   ]
  },
  {
   "cell_type": "code",
   "execution_count": 6,
   "metadata": {},
   "outputs": [],
   "source": [
    "test.create_name('Sneha')"
   ]
  },
  {
   "cell_type": "code",
   "execution_count": 8,
   "metadata": {},
   "outputs": [
    {
     "name": "stdout",
     "output_type": "stream",
     "text": [
      "Sneha\n"
     ]
    }
   ],
   "source": [
    "test.display_name()"
   ]
  },
  {
   "cell_type": "code",
   "execution_count": 9,
   "metadata": {},
   "outputs": [
    {
     "name": "stdout",
     "output_type": "stream",
     "text": [
      "Hello,Sneha \n"
     ]
    }
   ],
   "source": [
    "test.greet_name()"
   ]
  },
  {
   "cell_type": "code",
   "execution_count": 10,
   "metadata": {},
   "outputs": [],
   "source": [
    "x=greet_user()"
   ]
  },
  {
   "cell_type": "code",
   "execution_count": 11,
   "metadata": {},
   "outputs": [],
   "source": [
    "x.create_name('raj')"
   ]
  },
  {
   "cell_type": "code",
   "execution_count": 12,
   "metadata": {},
   "outputs": [
    {
     "name": "stdout",
     "output_type": "stream",
     "text": [
      "raj\n"
     ]
    }
   ],
   "source": [
    "x.display_name()"
   ]
  },
  {
   "cell_type": "code",
   "execution_count": null,
   "metadata": {},
   "outputs": [],
   "source": [
    "x.greet_name()"
   ]
  }
 ],
 "metadata": {
  "kernelspec": {
   "display_name": "Python 3",
   "language": "python",
   "name": "python3"
  },
  "language_info": {
   "codemirror_mode": {
    "name": "ipython",
    "version": 3
   },
   "file_extension": ".py",
   "mimetype": "text/x-python",
   "name": "python",
   "nbconvert_exporter": "python",
   "pygments_lexer": "ipython3",
   "version": "3.7.6"
  }
 },
 "nbformat": 4,
 "nbformat_minor": 4
}
