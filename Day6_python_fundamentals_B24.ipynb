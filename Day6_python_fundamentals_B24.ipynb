{
 "cells": [
  {
   "cell_type": "code",
   "execution_count": 1,
   "metadata": {},
   "outputs": [],
   "source": [
    "# organising the list datatype "
   ]
  },
  {
   "cell_type": "code",
   "execution_count": 3,
   "metadata": {},
   "outputs": [],
   "source": [
    "students=['rahul','neetika','bhavan','suresh','ananth','vikram','priyanka','supriya','david']"
   ]
  },
  {
   "cell_type": "code",
   "execution_count": 4,
   "metadata": {},
   "outputs": [
    {
     "name": "stdout",
     "output_type": "stream",
     "text": [
      "['rahul', 'neetika', 'bhavan', 'suresh', 'ananth', 'vikram', 'priyanka', 'supriya', 'david']\n"
     ]
    }
   ],
   "source": [
    "print(students)"
   ]
  },
  {
   "cell_type": "code",
   "execution_count": 5,
   "metadata": {},
   "outputs": [
    {
     "data": {
      "text/plain": [
       "list"
      ]
     },
     "execution_count": 5,
     "metadata": {},
     "output_type": "execute_result"
    }
   ],
   "source": [
    "type(students)"
   ]
  },
  {
   "cell_type": "code",
   "execution_count": null,
   "metadata": {},
   "outputs": [],
   "source": [
    "# organising the list \n",
    "#req: i want to arrange the above list in an alphabetical order...?A-Z\n",
    "There are 2 possible ways bywhich we can achieve the requirement \n",
    "1. Temporary way--> we can get the original list defined back\n",
    "2. Permanent way---> changes are implied permanently"
   ]
  },
  {
   "cell_type": "code",
   "execution_count": 6,
   "metadata": {},
   "outputs": [
    {
     "name": "stdout",
     "output_type": "stream",
     "text": [
      "['ananth', 'bhavan', 'david', 'neetika', 'priyanka', 'rahul', 'supriya', 'suresh', 'vikram']\n"
     ]
    }
   ],
   "source": [
    "#temporary\n",
    "print(sorted(students))"
   ]
  },
  {
   "cell_type": "code",
   "execution_count": 7,
   "metadata": {},
   "outputs": [
    {
     "name": "stdout",
     "output_type": "stream",
     "text": [
      "['rahul', 'neetika', 'bhavan', 'suresh', 'ananth', 'vikram', 'priyanka', 'supriya', 'david']\n"
     ]
    }
   ],
   "source": [
    "print(students)   # original declaration"
   ]
  },
  {
   "cell_type": "code",
   "execution_count": 8,
   "metadata": {},
   "outputs": [
    {
     "name": "stdout",
     "output_type": "stream",
     "text": [
      "['ananth', 'bhavan', 'david', 'neetika', 'priyanka', 'rahul', 'supriya', 'suresh', 'vikram']\n"
     ]
    }
   ],
   "source": [
    "# permanent\n",
    "students.sort()\n",
    "print(students)"
   ]
  },
  {
   "cell_type": "code",
   "execution_count": 9,
   "metadata": {},
   "outputs": [
    {
     "name": "stdout",
     "output_type": "stream",
     "text": [
      "['ananth', 'bhavan', 'david', 'neetika', 'priyanka', 'rahul', 'supriya', 'suresh', 'vikram']\n"
     ]
    }
   ],
   "source": [
    "print(students)"
   ]
  },
  {
   "cell_type": "code",
   "execution_count": 10,
   "metadata": {},
   "outputs": [
    {
     "data": {
      "text/plain": [
       "9"
      ]
     },
     "execution_count": 10,
     "metadata": {},
     "output_type": "execute_result"
    }
   ],
   "source": [
    "# how to count the number of elements in a list\n",
    "len(students)"
   ]
  },
  {
   "cell_type": "code",
   "execution_count": 11,
   "metadata": {},
   "outputs": [
    {
     "name": "stdout",
     "output_type": "stream",
     "text": [
      "['ananth', 'bhavan', 'david', 'neetika', 'priyanka', 'rahul', 'supriya', 'suresh', 'vikram']\n"
     ]
    }
   ],
   "source": [
    "# how to print the list in a reverse order\n",
    "print(students)"
   ]
  },
  {
   "cell_type": "code",
   "execution_count": 12,
   "metadata": {},
   "outputs": [
    {
     "name": "stdout",
     "output_type": "stream",
     "text": [
      "['vikram', 'suresh', 'supriya', 'rahul', 'priyanka', 'neetika', 'david', 'bhavan', 'ananth']\n"
     ]
    }
   ],
   "source": [
    "students.reverse()\n",
    "print(students)"
   ]
  },
  {
   "cell_type": "code",
   "execution_count": 13,
   "metadata": {},
   "outputs": [
    {
     "name": "stdout",
     "output_type": "stream",
     "text": [
      "['vikram', 'suresh', 'supriya', 'rahul', 'priyanka', 'neetika', 'david', 'bhavan', 'ananth']\n"
     ]
    }
   ],
   "source": [
    "# how to delete the elements from a list by using the pop method\n",
    "print(students)"
   ]
  },
  {
   "cell_type": "code",
   "execution_count": 14,
   "metadata": {},
   "outputs": [],
   "source": [
    "del students[1]"
   ]
  },
  {
   "cell_type": "code",
   "execution_count": 15,
   "metadata": {},
   "outputs": [
    {
     "name": "stdout",
     "output_type": "stream",
     "text": [
      "['vikram', 'supriya', 'rahul', 'priyanka', 'neetika', 'david', 'bhavan', 'ananth']\n"
     ]
    }
   ],
   "source": [
    "print(students)"
   ]
  },
  {
   "cell_type": "code",
   "execution_count": null,
   "metadata": {},
   "outputs": [],
   "source": [
    "# pop--> use for temporary deleting.. it will be an internal carbon copy of the deleted items\n",
    "# pop--->by default it will be deleting the items at the last of the list \n",
    "#        also we can define what indext position we want delete "
   ]
  },
  {
   "cell_type": "code",
   "execution_count": 16,
   "metadata": {},
   "outputs": [
    {
     "name": "stdout",
     "output_type": "stream",
     "text": [
      "['vikram', 'supriya', 'rahul', 'priyanka', 'neetika', 'david', 'bhavan']\n"
     ]
    }
   ],
   "source": [
    "x=students.pop()# X will be storing the deleted element in the variable assigned \n",
    "print(students)"
   ]
  },
  {
   "cell_type": "code",
   "execution_count": 17,
   "metadata": {},
   "outputs": [
    {
     "name": "stdout",
     "output_type": "stream",
     "text": [
      "ananth\n"
     ]
    }
   ],
   "source": [
    "print(x)"
   ]
  },
  {
   "cell_type": "code",
   "execution_count": 18,
   "metadata": {},
   "outputs": [
    {
     "name": "stdout",
     "output_type": "stream",
     "text": [
      "['vikram', 'supriya', 'rahul', 'neetika', 'david', 'bhavan']\n"
     ]
    }
   ],
   "source": [
    "y=students.pop(3)\n",
    "print(students)"
   ]
  },
  {
   "cell_type": "code",
   "execution_count": 19,
   "metadata": {},
   "outputs": [
    {
     "name": "stdout",
     "output_type": "stream",
     "text": [
      "priyanka\n"
     ]
    }
   ],
   "source": [
    "print(y)"
   ]
  },
  {
   "cell_type": "code",
   "execution_count": null,
   "metadata": {},
   "outputs": [],
   "source": []
  }
 ],
 "metadata": {
  "kernelspec": {
   "display_name": "Python 3",
   "language": "python",
   "name": "python3"
  },
  "language_info": {
   "codemirror_mode": {
    "name": "ipython",
    "version": 3
   },
   "file_extension": ".py",
   "mimetype": "text/x-python",
   "name": "python",
   "nbconvert_exporter": "python",
   "pygments_lexer": "ipython3",
   "version": "3.7.6"
  }
 },
 "nbformat": 4,
 "nbformat_minor": 4
}
