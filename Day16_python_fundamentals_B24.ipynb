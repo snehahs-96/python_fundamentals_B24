{
 "cells": [
  {
   "cell_type": "code",
   "execution_count": 1,
   "metadata": {},
   "outputs": [],
   "source": [
    " #Introduction to return values in function:"
   ]
  },
  {
   "cell_type": "code",
   "execution_count": 11,
   "metadata": {},
   "outputs": [],
   "source": [
    "def get_formatted_name(first_name,last_name):\n",
    "    \"\"\" return a fullname,neatly formatted\"\"\"\n",
    "    full_name=f\"{first_name} {last_name}\"\n",
    "    return full_name.title()"
   ]
  },
  {
   "cell_type": "code",
   "execution_count": 12,
   "metadata": {},
   "outputs": [],
   "source": [
    "musician = get_formatted_name('vishal','sharma')"
   ]
  },
  {
   "cell_type": "code",
   "execution_count": 13,
   "metadata": {},
   "outputs": [
    {
     "name": "stdout",
     "output_type": "stream",
     "text": [
      "Vishal Sharma\n"
     ]
    }
   ],
   "source": [
    "print(musician)"
   ]
  },
  {
   "cell_type": "code",
   "execution_count": null,
   "metadata": {},
   "outputs": [],
   "source": []
  },
  {
   "cell_type": "code",
   "execution_count": 14,
   "metadata": {},
   "outputs": [],
   "source": [
    "# returning a dictionary"
   ]
  },
  {
   "cell_type": "code",
   "execution_count": 15,
   "metadata": {},
   "outputs": [],
   "source": [
    "def build_person(first_name,last_name,location,state):\n",
    "    \"\"\" return dictionary of information about a person\"\"\"\n",
    "    person={'first':first_name,'last':last_name,'loc':location,'str':state}\n",
    "    return person"
   ]
  },
  {
   "cell_type": "code",
   "execution_count": 22,
   "metadata": {},
   "outputs": [],
   "source": [
    "artist = build_person('ravi','kumar','bangalore','karnataka')"
   ]
  },
  {
   "cell_type": "code",
   "execution_count": 23,
   "metadata": {},
   "outputs": [
    {
     "name": "stdout",
     "output_type": "stream",
     "text": [
      "{'first': 'ravi', 'last': 'kumar', 'loc': 'bangalore', 'str': 'karnataka'}\n"
     ]
    }
   ],
   "source": [
    "print(artist)"
   ]
  },
  {
   "cell_type": "code",
   "execution_count": 25,
   "metadata": {},
   "outputs": [
    {
     "name": "stdout",
     "output_type": "stream",
     "text": [
      "{'first': 'ravi', 'last': 'kumar', 'loc': 'bangalore', 'str': 'karnataka'}\n"
     ]
    }
   ],
   "source": [
    "artist = build_person('ravi','kumar','bangalore','karnataka')\n",
    "print(artist)"
   ]
  },
  {
   "cell_type": "code",
   "execution_count": null,
   "metadata": {},
   "outputs": [],
   "source": []
  },
  {
   "cell_type": "code",
   "execution_count": 26,
   "metadata": {},
   "outputs": [],
   "source": [
    "#Introduction to arbitary arguments:/speculative arguments"
   ]
  },
  {
   "cell_type": "code",
   "execution_count": 27,
   "metadata": {},
   "outputs": [],
   "source": [
    "#scenario: 15 members group---->different toppings"
   ]
  },
  {
   "cell_type": "code",
   "execution_count": 31,
   "metadata": {},
   "outputs": [
    {
     "name": "stdout",
     "output_type": "stream",
     "text": [
      "mushroom\n"
     ]
    }
   ],
   "source": [
    "def pizza(topping):\n",
    "    \"\"\" creating a pizza with toppings\"\"\"\n",
    "    print(topping)\n",
    "pizza('mushroom')"
   ]
  },
  {
   "cell_type": "code",
   "execution_count": 33,
   "metadata": {},
   "outputs": [
    {
     "ename": "TypeError",
     "evalue": "pizza() takes 1 positional argument but 3 were given",
     "output_type": "error",
     "traceback": [
      "\u001b[1;31m---------------------------------------------------------------------------\u001b[0m",
      "\u001b[1;31mTypeError\u001b[0m                                 Traceback (most recent call last)",
      "\u001b[1;32m<ipython-input-33-9bd2d6bb6c7d>\u001b[0m in \u001b[0;36m<module>\u001b[1;34m\u001b[0m\n\u001b[1;32m----> 1\u001b[1;33m \u001b[0mpizza\u001b[0m\u001b[1;33m(\u001b[0m\u001b[1;34m'olive'\u001b[0m\u001b[1;33m,\u001b[0m\u001b[1;34m'babycorn'\u001b[0m\u001b[1;33m,\u001b[0m\u001b[1;34m'extracheese'\u001b[0m\u001b[1;33m)\u001b[0m\u001b[1;33m\u001b[0m\u001b[1;33m\u001b[0m\u001b[0m\n\u001b[0m",
      "\u001b[1;31mTypeError\u001b[0m: pizza() takes 1 positional argument but 3 were given"
     ]
    }
   ],
   "source": [
    "pizza('olive','babycorn','extracheese')"
   ]
  },
  {
   "cell_type": "code",
   "execution_count": null,
   "metadata": {},
   "outputs": [],
   "source": []
  },
  {
   "cell_type": "code",
   "execution_count": 36,
   "metadata": {},
   "outputs": [],
   "source": [
    "def pizza(*toppings):\n",
    "    \"\"\" creating a pizza with toppings\"\"\"\n",
    "    print(toppings)"
   ]
  },
  {
   "cell_type": "code",
   "execution_count": 37,
   "metadata": {},
   "outputs": [
    {
     "name": "stdout",
     "output_type": "stream",
     "text": [
      "('olives', 'onions')\n",
      "('babycorn', 'tomatoes')\n",
      "('bbqchicken', 'extracheese', 'panbased', 'chillies')\n"
     ]
    }
   ],
   "source": [
    "pizza('olives','onions')\n",
    "pizza('babycorn','tomatoes')\n",
    "pizza('bbqchicken','extracheese','panbased','chillies')"
   ]
  },
  {
   "cell_type": "code",
   "execution_count": null,
   "metadata": {},
   "outputs": [],
   "source": []
  },
  {
   "cell_type": "code",
   "execution_count": 38,
   "metadata": {},
   "outputs": [],
   "source": [
    "# enhancement of code"
   ]
  },
  {
   "cell_type": "code",
   "execution_count": 39,
   "metadata": {},
   "outputs": [],
   "source": [
    "# Integration of for with the function"
   ]
  },
  {
   "cell_type": "code",
   "execution_count": 42,
   "metadata": {},
   "outputs": [],
   "source": [
    "def makepizza(*topping):\n",
    "    \"\"\" summarize the pizza we are about to make\"\"\"\n",
    "    print(\"\\n making the pizza with the below toppings\")\n",
    "    for toping in topping:\n",
    "        print(f\"-{toping}\" )"
   ]
  },
  {
   "cell_type": "code",
   "execution_count": 43,
   "metadata": {},
   "outputs": [
    {
     "name": "stdout",
     "output_type": "stream",
     "text": [
      "\n",
      " making the pizza with the below toppings\n",
      "-onion\n",
      "-olives\n",
      "\n",
      " making the pizza with the below toppings\n",
      "-corn\n",
      "-tomatoes\n",
      "\n",
      " making the pizza with the below toppings\n",
      "-babycorn\n",
      "-bbqchicken\n",
      "-chillies\n",
      "-panbased\n"
     ]
    }
   ],
   "source": [
    "makepizza('onion','olives')\n",
    "makepizza('corn','tomatoes')\n",
    "makepizza('babycorn','bbqchicken','chillies','panbased')"
   ]
  },
  {
   "cell_type": "code",
   "execution_count": null,
   "metadata": {},
   "outputs": [],
   "source": []
  },
  {
   "cell_type": "code",
   "execution_count": null,
   "metadata": {},
   "outputs": [],
   "source": []
  },
  {
   "cell_type": "code",
   "execution_count": null,
   "metadata": {},
   "outputs": [],
   "source": []
  }
 ],
 "metadata": {
  "kernelspec": {
   "display_name": "Python 3",
   "language": "python",
   "name": "python3"
  },
  "language_info": {
   "codemirror_mode": {
    "name": "ipython",
    "version": 3
   },
   "file_extension": ".py",
   "mimetype": "text/x-python",
   "name": "python",
   "nbconvert_exporter": "python",
   "pygments_lexer": "ipython3",
   "version": "3.7.6"
  }
 },
 "nbformat": 4,
 "nbformat_minor": 4
}
