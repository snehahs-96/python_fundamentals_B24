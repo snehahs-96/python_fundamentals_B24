{
 "cells": [
  {
   "cell_type": "code",
   "execution_count": null,
   "metadata": {},
   "outputs": [],
   "source": [
    "# Introduction to list Datatype:\n",
    "\n",
    "Defination: A list is an ordered colletion of items in a particular order.\n",
    "Classification: A list is classified as an mutable datatype.\n",
    "How to define the list------>we have to use [ ]---> Square brackets."
   ]
  },
  {
   "cell_type": "code",
   "execution_count": 1,
   "metadata": {},
   "outputs": [],
   "source": [
    "students=['pavan','reena','sneha','bharat','keerthi','ravi','ananya']"
   ]
  },
  {
   "cell_type": "code",
   "execution_count": 2,
   "metadata": {},
   "outputs": [
    {
     "name": "stdout",
     "output_type": "stream",
     "text": [
      "['pavan', 'reena', 'sneha', 'bharat', 'keerthi', 'ravi', 'ananya']\n"
     ]
    }
   ],
   "source": [
    "print(students)"
   ]
  },
  {
   "cell_type": "code",
   "execution_count": 3,
   "metadata": {},
   "outputs": [
    {
     "data": {
      "text/plain": [
       "list"
      ]
     },
     "execution_count": 3,
     "metadata": {},
     "output_type": "execute_result"
    }
   ],
   "source": [
    "type(students)"
   ]
  },
  {
   "cell_type": "code",
   "execution_count": null,
   "metadata": {},
   "outputs": [],
   "source": [
    "# How to access the elements from the list....?\n",
    "   # req: to access sneha name from the above list...?\n",
    "     understanding the concepts of indexing...\n",
    "        0,1,2,3,4,5......are index values\n",
    "     The order in the list is maintained internally by way of indexing the elements in the background of the list.\n",
    "# Ans: we have to use the concepts of indexing for accessing the elements from the list:"
   ]
  },
  {
   "cell_type": "code",
   "execution_count": 4,
   "metadata": {},
   "outputs": [
    {
     "name": "stdout",
     "output_type": "stream",
     "text": [
      "sneha\n"
     ]
    }
   ],
   "source": [
    "print(students[2])"
   ]
  },
  {
   "cell_type": "code",
   "execution_count": 5,
   "metadata": {},
   "outputs": [
    {
     "name": "stdout",
     "output_type": "stream",
     "text": [
      "ravi\n"
     ]
    }
   ],
   "source": [
    "# To access ravi name from the list\n",
    "print(students[5])"
   ]
  },
  {
   "cell_type": "code",
   "execution_count": 7,
   "metadata": {},
   "outputs": [
    {
     "name": "stdout",
     "output_type": "stream",
     "text": [
      "bharat ravi\n"
     ]
    }
   ],
   "source": [
    "print(students[3],students[5])"
   ]
  },
  {
   "cell_type": "code",
   "execution_count": 9,
   "metadata": {},
   "outputs": [
    {
     "name": "stdout",
     "output_type": "stream",
     "text": [
      "Bharat\n"
     ]
    }
   ],
   "source": [
    "print(students[3].title())"
   ]
  },
  {
   "cell_type": "code",
   "execution_count": 10,
   "metadata": {},
   "outputs": [
    {
     "name": "stdout",
     "output_type": "stream",
     "text": [
      "BHARAT\n"
     ]
    }
   ],
   "source": [
    "print(students[3].upper())"
   ]
  },
  {
   "cell_type": "code",
   "execution_count": 16,
   "metadata": {},
   "outputs": [
    {
     "name": "stdout",
     "output_type": "stream",
     "text": [
      "keep up the good work,pavan\n"
     ]
    }
   ],
   "source": [
    "# enhancement of the code....!\n",
    "# req: appreciate pavan for sending the practice files regularly.\n",
    "print (f\"keep up the good work,{students[0]}\" )"
   ]
  },
  {
   "cell_type": "code",
   "execution_count": 19,
   "metadata": {},
   "outputs": [
    {
     "name": "stdout",
     "output_type": "stream",
     "text": [
      "keep up the good work, Pavan\n"
     ]
    }
   ],
   "source": [
    "# further enhancement of the code....!\n",
    "print(f\"keep up the good work, {students[0].title()}\")"
   ]
  },
  {
   "cell_type": "code",
   "execution_count": 20,
   "metadata": {},
   "outputs": [],
   "source": [
    "# how to add, modify and delete the elements from the list: 3 important ports to be covered"
   ]
  },
  {
   "cell_type": "code",
   "execution_count": 21,
   "metadata": {},
   "outputs": [
    {
     "name": "stdout",
     "output_type": "stream",
     "text": [
      "['Lavanya', 'satish', 'neha', 'kumar', 'shabbir', 'ritika']\n"
     ]
    }
   ],
   "source": [
    "# how to add the element\n",
    "my_students=['Lavanya','satish','neha','kumar','shabbir','ritika']\n",
    "print(my_students)"
   ]
  },
  {
   "cell_type": "code",
   "execution_count": 25,
   "metadata": {},
   "outputs": [
    {
     "name": "stdout",
     "output_type": "stream",
     "text": [
      "['Lavanya', 'satish', 'neha', 'kumar', 'shabbir', 'ritika', 'rakesh', 'rakesh', 'rakesh', 'rakesh']\n"
     ]
    }
   ],
   "source": [
    "# req: to add a new students to the list above\n",
    "# eg: add 'rakesh' to list\n",
    "my_students.append('rakesh')\n",
    "print(my_students)\n"
   ]
  },
  {
   "cell_type": "code",
   "execution_count": 26,
   "metadata": {},
   "outputs": [],
   "source": [
    "del (my_students[9])"
   ]
  },
  {
   "cell_type": "code",
   "execution_count": 27,
   "metadata": {},
   "outputs": [
    {
     "name": "stdout",
     "output_type": "stream",
     "text": [
      "['Lavanya', 'satish', 'neha', 'kumar', 'shabbir', 'ritika', 'rakesh', 'rakesh', 'rakesh']\n"
     ]
    }
   ],
   "source": [
    "print(my_students)"
   ]
  },
  {
   "cell_type": "code",
   "execution_count": 28,
   "metadata": {},
   "outputs": [],
   "source": [
    "del (my_students[8])"
   ]
  },
  {
   "cell_type": "code",
   "execution_count": 29,
   "metadata": {},
   "outputs": [
    {
     "name": "stdout",
     "output_type": "stream",
     "text": [
      "['Lavanya', 'satish', 'neha', 'kumar', 'shabbir', 'ritika', 'rakesh', 'rakesh']\n"
     ]
    }
   ],
   "source": [
    "print(my_students)"
   ]
  },
  {
   "cell_type": "code",
   "execution_count": 30,
   "metadata": {},
   "outputs": [],
   "source": [
    "# add 'romit'\n",
    "my_students.append('romit')"
   ]
  },
  {
   "cell_type": "code",
   "execution_count": 31,
   "metadata": {},
   "outputs": [
    {
     "name": "stdout",
     "output_type": "stream",
     "text": [
      "['Lavanya', 'satish', 'neha', 'kumar', 'shabbir', 'ritika', 'rakesh', 'rakesh', 'romit']\n"
     ]
    }
   ],
   "source": [
    "print(my_students)"
   ]
  },
  {
   "cell_type": "code",
   "execution_count": 32,
   "metadata": {},
   "outputs": [],
   "source": [
    "# In append method students are getting added at the last"
   ]
  },
  {
   "cell_type": "code",
   "execution_count": 33,
   "metadata": {},
   "outputs": [
    {
     "name": "stdout",
     "output_type": "stream",
     "text": [
      "['Lavanya', 'satish', 'priya', 'neha', 'kumar', 'shabbir', 'ritika', 'rakesh', 'rakesh', 'romit']\n"
     ]
    }
   ],
   "source": [
    "# adding a students at a particular index of choice\n",
    "# req: to add a priya in a 2 index position\n",
    "my_students.insert(2,'priya')\n",
    "print(my_students)"
   ]
  },
  {
   "cell_type": "code",
   "execution_count": 34,
   "metadata": {},
   "outputs": [
    {
     "name": "stdout",
     "output_type": "stream",
     "text": [
      "priya\n"
     ]
    }
   ],
   "source": [
    "print(my_students[2])"
   ]
  },
  {
   "cell_type": "code",
   "execution_count": null,
   "metadata": {},
   "outputs": [],
   "source": [
    "# append Vs insert\n",
    "In append the elements will be added at last in the list\n",
    "In insert the elements will be added in the particular index"
   ]
  },
  {
   "cell_type": "code",
   "execution_count": 35,
   "metadata": {},
   "outputs": [
    {
     "name": "stdout",
     "output_type": "stream",
     "text": [
      "['Lavanya', 'satish', 'priya', 'meenakshi', 'kumar', 'shabbir', 'ritika', 'rakesh', 'rakesh', 'romit']\n"
     ]
    }
   ],
   "source": [
    "# how to modify the elements in the list\n",
    "# req: neha---->meenakshi\n",
    "my_students[3]='meenakshi'\n",
    "print(my_students)"
   ]
  },
  {
   "cell_type": "code",
   "execution_count": 36,
   "metadata": {},
   "outputs": [],
   "source": [
    "# here neha got replaced by meenakshi"
   ]
  },
  {
   "cell_type": "code",
   "execution_count": 37,
   "metadata": {},
   "outputs": [
    {
     "name": "stdout",
     "output_type": "stream",
     "text": [
      "['Lavanya', 'priya', 'meenakshi', 'kumar', 'shabbir', 'ritika', 'rakesh', 'rakesh', 'romit']\n"
     ]
    }
   ],
   "source": [
    "# how to delete the elements from the list\n",
    "#req: satish has been dropped from the session--\n",
    "del my_students[1]\n",
    "print(my_students)"
   ]
  },
  {
   "cell_type": "code",
   "execution_count": null,
   "metadata": {},
   "outputs": [],
   "source": [
    "# satish got deleted"
   ]
  },
  {
   "cell_type": "code",
   "execution_count": null,
   "metadata": {},
   "outputs": [],
   "source": []
  },
  {
   "cell_type": "code",
   "execution_count": null,
   "metadata": {},
   "outputs": [],
   "source": []
  }
 ],
 "metadata": {
  "kernelspec": {
   "display_name": "Python 3",
   "language": "python",
   "name": "python3"
  },
  "language_info": {
   "codemirror_mode": {
    "name": "ipython",
    "version": 3
   },
   "file_extension": ".py",
   "mimetype": "text/x-python",
   "name": "python",
   "nbconvert_exporter": "python",
   "pygments_lexer": "ipython3",
   "version": "3.7.6"
  }
 },
 "nbformat": 4,
 "nbformat_minor": 4
}
