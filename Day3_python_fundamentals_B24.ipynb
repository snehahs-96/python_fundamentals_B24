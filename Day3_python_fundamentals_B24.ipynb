{
 "cells": [
  {
   "cell_type": "code",
   "execution_count": 1,
   "metadata": {},
   "outputs": [],
   "source": [
    "# introduction to f strings"
   ]
  },
  {
   "cell_type": "code",
   "execution_count": 7,
   "metadata": {},
   "outputs": [],
   "source": [
    "firstname='leena'\n",
    "lastname='panda'"
   ]
  },
  {
   "cell_type": "code",
   "execution_count": 3,
   "metadata": {},
   "outputs": [],
   "source": [
    "#requirment: to get the fullname"
   ]
  },
  {
   "cell_type": "code",
   "execution_count": 4,
   "metadata": {},
   "outputs": [],
   "source": [
    "# general syntax of a f string\n",
    "\n",
    "# x= f\"{placeholder1}{placeholder2}\"\n",
    "\n",
    "# x= f\" hello,{placeholder1}{placholder2}\" \n",
    "\n",
    "# curly braces---> to give the reference variables."
   ]
  },
  {
   "cell_type": "code",
   "execution_count": 8,
   "metadata": {},
   "outputs": [
    {
     "name": "stdout",
     "output_type": "stream",
     "text": [
      "leenapanda\n"
     ]
    }
   ],
   "source": [
    "full_name = f\"{firstname}{lastname}\"\n",
    "print(full_name)"
   ]
  },
  {
   "cell_type": "code",
   "execution_count": 9,
   "metadata": {},
   "outputs": [
    {
     "name": "stdout",
     "output_type": "stream",
     "text": [
      "Leenapanda\n"
     ]
    }
   ],
   "source": [
    "#enhancement of the code\n",
    "print(full_name.title())"
   ]
  },
  {
   "cell_type": "code",
   "execution_count": 20,
   "metadata": {},
   "outputs": [
    {
     "name": "stdout",
     "output_type": "stream",
     "text": [
      "Hello,Leenapanda\n"
     ]
    }
   ],
   "source": [
    "# futher enhancement of the code\n",
    "print(f\"Hello,{full_name.title()}\")"
   ]
  },
  {
   "cell_type": "code",
   "execution_count": 19,
   "metadata": {},
   "outputs": [
    {
     "name": "stdout",
     "output_type": "stream",
     "text": [
      "Hello,LEENAPANDA\n"
     ]
    }
   ],
   "source": [
    "print(f\"Hello,{full_name.upper()}\")"
   ]
  },
  {
   "cell_type": "code",
   "execution_count": 11,
   "metadata": {},
   "outputs": [],
   "source": [
    "#adding white spaces to string-----> by using delimiters \\n and \\t"
   ]
  },
  {
   "cell_type": "code",
   "execution_count": 17,
   "metadata": {},
   "outputs": [
    {
     "name": "stdout",
     "output_type": "stream",
     "text": [
      "fav_languages: pythonrubycjavac++golongswift\n"
     ]
    }
   ],
   "source": [
    "print('fav_languages: pythonrubycjavac++golongswift')"
   ]
  },
  {
   "cell_type": "code",
   "execution_count": 15,
   "metadata": {},
   "outputs": [
    {
     "name": "stdout",
     "output_type": "stream",
     "text": [
      " fav_languages: \n",
      " python\n",
      " ruby\n",
      " c\n",
      " java\n",
      " c++\n",
      " golang\n",
      " swift\n"
     ]
    }
   ],
   "source": [
    "#enhancement of the code------\\n--->newline delimiter\n",
    "print(' fav_languages: \\n python\\n ruby\\n c\\n java\\n c++\\n golang\\n swift')"
   ]
  },
  {
   "cell_type": "code",
   "execution_count": 16,
   "metadata": {},
   "outputs": [
    {
     "name": "stdout",
     "output_type": "stream",
     "text": [
      " fav_languages: \n",
      "\t python\n",
      "\t ruby\n",
      "\t c\n",
      "\t java\n",
      "\t c++\n",
      "\t golang\n",
      "\t swift\n"
     ]
    }
   ],
   "source": [
    "# further enhancement of the code------\\t--->tab delimiter\n",
    "print(' fav_languages: \\n\\t python\\n\\t ruby\\n\\t c\\n\\t java\\n\\t c++\\n\\t golang\\n\\t swift')"
   ]
  },
  {
   "cell_type": "code",
   "execution_count": null,
   "metadata": {},
   "outputs": [],
   "source": []
  }
 ],
 "metadata": {
  "kernelspec": {
   "display_name": "Python 3",
   "language": "python",
   "name": "python3"
  },
  "language_info": {
   "codemirror_mode": {
    "name": "ipython",
    "version": 3
   },
   "file_extension": ".py",
   "mimetype": "text/x-python",
   "name": "python",
   "nbconvert_exporter": "python",
   "pygments_lexer": "ipython3",
   "version": "3.7.6"
  }
 },
 "nbformat": 4,
 "nbformat_minor": 4
}
