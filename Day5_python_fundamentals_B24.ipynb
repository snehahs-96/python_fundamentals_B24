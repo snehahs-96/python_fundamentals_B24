{
 "cells": [
  {
   "cell_type": "code",
   "execution_count": 1,
   "metadata": {},
   "outputs": [],
   "source": [
    "# Introduction to for loops:"
   ]
  },
  {
   "cell_type": "code",
   "execution_count": 3,
   "metadata": {},
   "outputs": [
    {
     "name": "stdout",
     "output_type": "stream",
     "text": [
      "['Nikitha', 'Kiran', 'meenakshi', 'ananth', 'sameer', 'aparna']\n"
     ]
    }
   ],
   "source": [
    "my_students=['Nikitha','Kiran','meenakshi','ananth','sameer','aparna']\n",
    "print(my_students)"
   ]
  },
  {
   "cell_type": "code",
   "execution_count": 4,
   "metadata": {},
   "outputs": [
    {
     "data": {
      "text/plain": [
       "list"
      ]
     },
     "execution_count": 4,
     "metadata": {},
     "output_type": "execute_result"
    }
   ],
   "source": [
    "type(my_students)"
   ]
  },
  {
   "cell_type": "code",
   "execution_count": null,
   "metadata": {},
   "outputs": [],
   "source": [
    "# req: How to appreciate all the students"
   ]
  },
  {
   "cell_type": "code",
   "execution_count": 10,
   "metadata": {},
   "outputs": [
    {
     "ename": "IndentationError",
     "evalue": "unexpected indent (<ipython-input-10-27a983e4641f>, line 2)",
     "output_type": "error",
     "traceback": [
      "\u001b[1;36m  File \u001b[1;32m\"<ipython-input-10-27a983e4641f>\"\u001b[1;36m, line \u001b[1;32m2\u001b[0m\n\u001b[1;33m    print(f\"keep up the good work,{my_students[1]}\")\u001b[0m\n\u001b[1;37m    ^\u001b[0m\n\u001b[1;31mIndentationError\u001b[0m\u001b[1;31m:\u001b[0m unexpected indent\n"
     ]
    }
   ],
   "source": [
    "print(f\"keep up the good work,{my_students[0]}\")\n",
    "      print(f\"keep up the good work,{my_students[1]}\")\n",
    "         print(f\"keep up the good work,{my_students[2]}\")"
   ]
  },
  {
   "cell_type": "code",
   "execution_count": null,
   "metadata": {},
   "outputs": [],
   "source": [
    "# here in the above example indentation error because the print statement not in a correct indentation"
   ]
  },
  {
   "cell_type": "code",
   "execution_count": 9,
   "metadata": {},
   "outputs": [
    {
     "name": "stdout",
     "output_type": "stream",
     "text": [
      "keep up the good work,Nikitha\n",
      "keep up the good work,Kiran\n",
      "keep up the good work,meenakshi\n"
     ]
    }
   ],
   "source": [
    "print(f\"keep up the good work,{my_students[0]}\")\n",
    "print(f\"keep up the good work,{my_students[1]}\")\n",
    "print(f\"keep up the good work,{my_students[2]}\")"
   ]
  },
  {
   "cell_type": "code",
   "execution_count": 11,
   "metadata": {},
   "outputs": [],
   "source": [
    "# implementation of a for_loop "
   ]
  },
  {
   "cell_type": "code",
   "execution_count": 12,
   "metadata": {},
   "outputs": [
    {
     "name": "stdout",
     "output_type": "stream",
     "text": [
      "['Nikitha', 'Kiran', 'meenakshi', 'ananth', 'sameer', 'aparna']\n"
     ]
    }
   ],
   "source": [
    "print(my_students)"
   ]
  },
  {
   "cell_type": "code",
   "execution_count": 14,
   "metadata": {},
   "outputs": [
    {
     "name": "stdout",
     "output_type": "stream",
     "text": [
      " keep up the good work, Nikitha\n",
      " keep up the good work, Kiran\n",
      " keep up the good work, meenakshi\n",
      " keep up the good work, ananth\n",
      " keep up the good work, sameer\n",
      " keep up the good work, aparna\n"
     ]
    }
   ],
   "source": [
    "for student in my_students:\n",
    "    print(f\" keep up the good work, {student}\")"
   ]
  },
  {
   "cell_type": "code",
   "execution_count": 15,
   "metadata": {},
   "outputs": [
    {
     "ename": "IndentationError",
     "evalue": "expected an indented block (<ipython-input-15-79650f8ab6f1>, line 2)",
     "output_type": "error",
     "traceback": [
      "\u001b[1;36m  File \u001b[1;32m\"<ipython-input-15-79650f8ab6f1>\"\u001b[1;36m, line \u001b[1;32m2\u001b[0m\n\u001b[1;33m    print(f\" keep up the good work, {student}\")\u001b[0m\n\u001b[1;37m        ^\u001b[0m\n\u001b[1;31mIndentationError\u001b[0m\u001b[1;31m:\u001b[0m expected an indented block\n"
     ]
    }
   ],
   "source": [
    "for student in my_students:\n",
    "print(f\" keep up the good work, {student}\")"
   ]
  },
  {
   "cell_type": "code",
   "execution_count": 16,
   "metadata": {},
   "outputs": [],
   "source": [
    "# here in the above example for loop is not in a correct indentation"
   ]
  },
  {
   "cell_type": "code",
   "execution_count": null,
   "metadata": {},
   "outputs": [],
   "source": [
    "# general syntax of a for loop\n",
    "for tempvar in mainvar:\n",
    "    print(tempvar)"
   ]
  },
  {
   "cell_type": "code",
   "execution_count": 19,
   "metadata": {},
   "outputs": [
    {
     "name": "stdout",
     "output_type": "stream",
     "text": [
      " keep up the good work,Nikitha \n",
      " keep up the good work,Kiran \n",
      " keep up the good work,meenakshi \n",
      " keep up the good work,ananth \n",
      " keep up the good work,sameer \n",
      " keep up the good work,aparna \n"
     ]
    }
   ],
   "source": [
    "for x in my_students:\n",
    "    print(f\" keep up the good work,{x} \")"
   ]
  },
  {
   "cell_type": "code",
   "execution_count": 20,
   "metadata": {},
   "outputs": [
    {
     "name": "stdout",
     "output_type": "stream",
     "text": [
      "Nikitha\n",
      "Kiran\n",
      "meenakshi\n",
      "ananth\n",
      "sameer\n",
      "aparna\n"
     ]
    }
   ],
   "source": [
    "for batman in my_students:\n",
    "    print(batman)"
   ]
  },
  {
   "cell_type": "code",
   "execution_count": 21,
   "metadata": {},
   "outputs": [
    {
     "name": "stdout",
     "output_type": "stream",
     "text": [
      "keep up the good work,Nikitha\n",
      "keep up the good work,Kiran\n",
      "keep up the good work,meenakshi\n",
      "keep up the good work,ananth\n",
      "keep up the good work,sameer\n",
      "keep up the good work,aparna\n"
     ]
    }
   ],
   "source": [
    "for batman in my_students:\n",
    "    print(f\"keep up the good work,{batman}\" )"
   ]
  },
  {
   "cell_type": "code",
   "execution_count": 22,
   "metadata": {},
   "outputs": [
    {
     "name": "stdout",
     "output_type": "stream",
     "text": [
      "keep up the good work, Nikitha \n",
      "Iam looking forward to receive your practice files,Nikitha \n",
      "keep up the good work, Kiran \n",
      "Iam looking forward to receive your practice files,Kiran \n",
      "keep up the good work, meenakshi \n",
      "Iam looking forward to receive your practice files,meenakshi \n",
      "keep up the good work, ananth \n",
      "Iam looking forward to receive your practice files,ananth \n",
      "keep up the good work, sameer \n",
      "Iam looking forward to receive your practice files,sameer \n",
      "keep up the good work, aparna \n",
      "Iam looking forward to receive your practice files,aparna \n"
     ]
    }
   ],
   "source": [
    "for student in my_students:\n",
    "    print(f\"keep up the good work, {student} \")\n",
    "    print(f\"Iam looking forward to receive your practice files,{student} \")"
   ]
  },
  {
   "cell_type": "code",
   "execution_count": 23,
   "metadata": {},
   "outputs": [
    {
     "name": "stdout",
     "output_type": "stream",
     "text": [
      "keep up the good work, Nikitha\n",
      "Iam looking forward to receive your practice files,Nikitha \n",
      "\n",
      "keep up the good work, Kiran\n",
      "Iam looking forward to receive your practice files,Kiran \n",
      "\n",
      "keep up the good work, meenakshi\n",
      "Iam looking forward to receive your practice files,meenakshi \n",
      "\n",
      "keep up the good work, ananth\n",
      "Iam looking forward to receive your practice files,ananth \n",
      "\n",
      "keep up the good work, sameer\n",
      "Iam looking forward to receive your practice files,sameer \n",
      "\n",
      "keep up the good work, aparna\n",
      "Iam looking forward to receive your practice files,aparna \n",
      "\n"
     ]
    }
   ],
   "source": [
    "for student in my_students:\n",
    "    print(f\"keep up the good work, {student}\")\n",
    "    print(f\"Iam looking forward to receive your practice files,{student} \\n\")"
   ]
  },
  {
   "cell_type": "code",
   "execution_count": 25,
   "metadata": {},
   "outputs": [
    {
     "ename": "IndentationError",
     "evalue": "unexpected indent (<ipython-input-25-40732a521129>, line 4)",
     "output_type": "error",
     "traceback": [
      "\u001b[1;36m  File \u001b[1;32m\"<ipython-input-25-40732a521129>\"\u001b[1;36m, line \u001b[1;32m4\u001b[0m\n\u001b[1;33m    print(\"thank you all for showing interest in learning python\")\u001b[0m\n\u001b[1;37m    ^\u001b[0m\n\u001b[1;31mIndentationError\u001b[0m\u001b[1;31m:\u001b[0m unexpected indent\n"
     ]
    }
   ],
   "source": [
    "for student in my_students:\n",
    "    print(f\"keep up the good work,[student] \")\n",
    "    print(f\"Iam looking forward to receive your practice files,{student} \")\n",
    "          print(\"thank you all for showing interest in learning python\")"
   ]
  },
  {
   "cell_type": "code",
   "execution_count": 31,
   "metadata": {},
   "outputs": [
    {
     "name": "stdout",
     "output_type": "stream",
     "text": [
      "keep up the good work,Nikitha \n",
      "Iam looking forward to receive your practice files,Nikitha \n",
      "thank you all for showing interest in learning python\n",
      "keep up the good work,Kiran \n",
      "Iam looking forward to receive your practice files,Kiran \n",
      "thank you all for showing interest in learning python\n",
      "keep up the good work,meenakshi \n",
      "Iam looking forward to receive your practice files,meenakshi \n",
      "thank you all for showing interest in learning python\n",
      "keep up the good work,ananth \n",
      "Iam looking forward to receive your practice files,ananth \n",
      "thank you all for showing interest in learning python\n",
      "keep up the good work,sameer \n",
      "Iam looking forward to receive your practice files,sameer \n",
      "thank you all for showing interest in learning python\n",
      "keep up the good work,aparna \n",
      "Iam looking forward to receive your practice files,aparna \n",
      "thank you all for showing interest in learning python\n"
     ]
    }
   ],
   "source": [
    "for student in my_students:\n",
    "    print(f\"keep up the good work,{student} \")\n",
    "    print(f\"Iam looking forward to receive your practice files,{student} \")\n",
    "    print(\"thank you all for showing interest in learning python\")"
   ]
  },
  {
   "cell_type": "code",
   "execution_count": 32,
   "metadata": {},
   "outputs": [
    {
     "ename": "IndentationError",
     "evalue": "unexpected indent (<ipython-input-32-7b345e777f8f>, line 5)",
     "output_type": "error",
     "traceback": [
      "\u001b[1;36m  File \u001b[1;32m\"<ipython-input-32-7b345e777f8f>\"\u001b[1;36m, line \u001b[1;32m5\u001b[0m\n\u001b[1;33m    print(\"thank you all for showing interest in learning python\")\u001b[0m\n\u001b[1;37m    ^\u001b[0m\n\u001b[1;31mIndentationError\u001b[0m\u001b[1;31m:\u001b[0m unexpected indent\n"
     ]
    }
   ],
   "source": [
    "for student in my_students:\n",
    "    print(f\"keep up the good work,{student} \")\n",
    "    print(f\"Iam looking forward to receive your practice files,{student} \")\n",
    "    \n",
    "          print(\"thank you all for showing interest in learning python\")"
   ]
  },
  {
   "cell_type": "code",
   "execution_count": 34,
   "metadata": {},
   "outputs": [
    {
     "name": "stdout",
     "output_type": "stream",
     "text": [
      "keep up the good work,Nikitha \n",
      "Iam looking forward to receive your practice files,Nikitha \n",
      "thank you all for showing interest in learning python\n",
      "keep up the good work,Kiran \n",
      "Iam looking forward to receive your practice files,Kiran \n",
      "thank you all for showing interest in learning python\n",
      "keep up the good work,meenakshi \n",
      "Iam looking forward to receive your practice files,meenakshi \n",
      "thank you all for showing interest in learning python\n",
      "keep up the good work,ananth \n",
      "Iam looking forward to receive your practice files,ananth \n",
      "thank you all for showing interest in learning python\n",
      "keep up the good work,sameer \n",
      "Iam looking forward to receive your practice files,sameer \n",
      "thank you all for showing interest in learning python\n",
      "keep up the good work,aparna \n",
      "Iam looking forward to receive your practice files,aparna \n",
      "thank you all for showing interest in learning python\n"
     ]
    }
   ],
   "source": [
    "for student in my_students:\n",
    "    print(f\"keep up the good work,{student} \")\n",
    "    print(f\"Iam looking forward to receive your practice files,{student} \")\n",
    "    \n",
    "    print(\"thank you all for showing interest in learning python\")"
   ]
  },
  {
   "cell_type": "code",
   "execution_count": 33,
   "metadata": {},
   "outputs": [
    {
     "name": "stdout",
     "output_type": "stream",
     "text": [
      "keep up the good work,Nikitha \n",
      "Iam looking forward to receive your practice files,Nikitha \n",
      "keep up the good work,Kiran \n",
      "Iam looking forward to receive your practice files,Kiran \n",
      "keep up the good work,meenakshi \n",
      "Iam looking forward to receive your practice files,meenakshi \n",
      "keep up the good work,ananth \n",
      "Iam looking forward to receive your practice files,ananth \n",
      "keep up the good work,sameer \n",
      "Iam looking forward to receive your practice files,sameer \n",
      "keep up the good work,aparna \n",
      "Iam looking forward to receive your practice files,aparna \n",
      "thank you all for showing interest in learning python\n"
     ]
    }
   ],
   "source": [
    "for student in my_students:\n",
    "    print(f\"keep up the good work,{student} \")\n",
    "    print(f\"Iam looking forward to receive your practice files,{student} \")\n",
    "    \n",
    "print(\"thank you all for showing interest in learning python\")"
   ]
  },
  {
   "cell_type": "code",
   "execution_count": null,
   "metadata": {},
   "outputs": [],
   "source": []
  }
 ],
 "metadata": {
  "kernelspec": {
   "display_name": "Python 3",
   "language": "python",
   "name": "python3"
  },
  "language_info": {
   "codemirror_mode": {
    "name": "ipython",
    "version": 3
   },
   "file_extension": ".py",
   "mimetype": "text/x-python",
   "name": "python",
   "nbconvert_exporter": "python",
   "pygments_lexer": "ipython3",
   "version": "3.7.6"
  }
 },
 "nbformat": 4,
 "nbformat_minor": 4
}
